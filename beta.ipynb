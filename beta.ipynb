{
 "cells": [
  {
   "cell_type": "code",
   "execution_count": 3,
   "id": "bd05a8a5-c456-454f-b14f-d12bead2bcae",
   "metadata": {},
   "outputs": [],
   "source": [
    "import numpy as np\n",
    "import matplotlib.pyplot as plt\n"
   ]
  },
  {
   "cell_type": "code",
   "execution_count": 27,
   "id": "fb8e5988-dd65-4267-8c16-54e8153e3be6",
   "metadata": {},
   "outputs": [
    {
     "name": "stdout",
     "output_type": "stream",
     "text": [
      "0.09383390040099761\n"
     ]
    }
   ],
   "source": [
    "rho=948\n",
    "mu=23.4*(10**-3)\n",
    "gamma=0.0328\n",
    "R=0.002\n",
    "Oh=mu/np.sqrt(rho*R*gamma)\n",
    "print(Oh)\n"
   ]
  },
  {
   "cell_type": "code",
   "execution_count": 24,
   "id": "29ea4c2b-5ef6-4051-bdc7-c791cee09382",
   "metadata": {},
   "outputs": [
    {
     "name": "stdout",
     "output_type": "stream",
     "text": [
      "7.706062880140407\n"
     ]
    }
   ],
   "source": [
    "CA=53.5*np.pi/180\n",
    "\n",
    "beta=CA**2/np.sin(CA)/5/3/Oh\n",
    "print(beta)\n"
   ]
  },
  {
   "cell_type": "code",
   "execution_count": 25,
   "id": "08953597-f2bd-4a2e-9558-849e1725d373",
   "metadata": {},
   "outputs": [
    {
     "name": "stdout",
     "output_type": "stream",
     "text": [
      "1.0043240301770515\n"
     ]
    }
   ],
   "source": [
    "x=150*np.pi/180\n",
    "Radius=(4/(2-3*np.cos(x)+np.cos(x)**3))**(1/3)\n",
    "print(Radius)"
   ]
  },
  {
   "cell_type": "code",
   "execution_count": 26,
   "id": "3d018f01-8f8c-472f-9fbc-1a945df6af44",
   "metadata": {},
   "outputs": [
    {
     "data": {
      "text/plain": [
       "0.00234"
      ]
     },
     "execution_count": 26,
     "metadata": {},
     "output_type": "execute_result"
    }
   ],
   "source": [
    "mu"
   ]
  },
  {
   "cell_type": "code",
   "execution_count": null,
   "id": "689b2de9-73a2-4f6d-8bf3-1fd44d31aa92",
   "metadata": {},
   "outputs": [],
   "source": []
  }
 ],
 "metadata": {
  "kernelspec": {
   "display_name": "Python 3 (ipykernel)",
   "language": "python",
   "name": "python3"
  },
  "language_info": {
   "codemirror_mode": {
    "name": "ipython",
    "version": 3
   },
   "file_extension": ".py",
   "mimetype": "text/x-python",
   "name": "python",
   "nbconvert_exporter": "python",
   "pygments_lexer": "ipython3",
   "version": "3.12.5"
  }
 },
 "nbformat": 4,
 "nbformat_minor": 5
}
