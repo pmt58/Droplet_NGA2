{
 "cells": [
  {
   "cell_type": "code",
   "execution_count": null,
   "metadata": {},
   "outputs": [],
   "source": [
    "import numpy as np\n",
    "import pandas as pd\n",
    "import matplotlib.pyplot as plt\n",
    "#import scipy.optimize as opt\n",
    "from scipy.optimize import curve_fit\n",
    "import os\n",
    "import re\n"
   ]
  },
  {
   "cell_type": "code",
   "execution_count": null,
   "metadata": {},
   "outputs": [],
   "source": [
    "def powerlaw(t,K,n,Af,tau):\n",
    "    return Af*(1-np.exp(-K*np.power(t+tau,n)/Af))#/Af))\n"
   ]
  },
  {
   "cell_type": "code",
   "execution_count": null,
   "metadata": {},
   "outputs": [],
   "source": [
    "fit_param=np.zeros([1,4])\n",
    "\n",
    "temp=pd.read_csv('./monitor/dropinfo',header=0,delimiter='\\\\s+')#,skiprows=1)\n",
    "temp2=pd.read_csv('./monitor/simulation',header=0,delimiter='\\\\s+')#,skiprows=1)\n",
    "data=temp[1:].astype('float32') # Drop first row and interpret data as floating point numbers. \n",
    "data2=temp2[1:].astype('float32') # Drop first row and interpret data as floating point numbers. \n",
    "    # === Plot Data === #\n",
    "xdata=data['Time'].to_numpy()\n",
    "ydata=data['WetAreaFract'].to_numpy()\n",
    "ydata2=data2['Maximum'].to_numpy()\n",
    "\n",
    "ydata=ydata\n",
    "p=plt.semilogx(xdata,ydata,label='data')\n",
    "    # === Fit model === #\n",
    "    #popt, pcov = curve_fit(powerlaw, data['Time'], np.pi*np.power(data['Wetted'],2),[1,0.5,1,8])\n",
    "popt, pcov = curve_fit(powerlaw, xdata, ydata,bounds=(10**-3,[10,10,10,2]))\n",
    "fit_param[0,:]=popt\n",
    "p=plt.semilogx(xdata,powerlaw(xdata,popt[0],popt[1],popt[2],popt[3]),'--',color=p[0].get_color(),label='fit')\n",
    "\n",
    "\n",
    "plt.ylim([0,1.1])\n",
    "plt.xlim([1e-1,1e2])\n",
    "plt.title('Droplet Spreading')\n",
    "plt.xlabel(r'$\\tau$')\n",
    "plt.ylabel(r'$\\frac{A}{A_f}$')\n",
    "plt.legend()\n",
    "plt.grid()#True,which='Both')\n",
    "plt.show()\n",
    "\n",
    "s=plt.plot(xdata,ydata,label='data')\n",
    "s=plt.plot(xdata,powerlaw(xdata,popt[0],popt[1],popt[2],popt[3]),'--',color=p[0].get_color(),label='fit')\n",
    "\n",
    "plt.ylim([0,1.1])\n",
    "plt.xlim([0,20])\n",
    "plt.title('Droplet Spreading')\n",
    "plt.xlabel(r'$\\tau$')\n",
    "plt.ylabel(r'$\\frac{A}{A_f}$')\n",
    "plt.legend()\n",
    "plt.grid()#True,which='Both')\n",
    "plt.show()\n",
    "\n",
    "plt.plot(xdata,ydata2)\n",
    "plt.show()\n",
    "    "
   ]
  },
  {
   "cell_type": "code",
   "execution_count": null,
   "metadata": {},
   "outputs": [],
   "source": [
    "#K,n,A_f,tau\n",
    "fit_param"
   ]
  },
  {
   "cell_type": "code",
   "execution_count": null,
   "metadata": {},
   "outputs": [],
   "source": [
    "s=plt.plot(xdata,data['CA.1'].to_numpy(),label='data')\n",
    "plt.ylim([40,90])\n",
    "plt.grid()"
   ]
  },
  {
   "cell_type": "code",
   "execution_count": null,
   "metadata": {},
   "outputs": [],
   "source": []
  }
 ],
 "metadata": {
  "kernelspec": {
   "display_name": "nga",
   "language": "python",
   "name": "nga"
  },
  "language_info": {
   "codemirror_mode": {
    "name": "ipython",
    "version": 3
   },
   "file_extension": ".py",
   "mimetype": "text/x-python",
   "name": "python",
   "nbconvert_exporter": "python",
   "pygments_lexer": "ipython3",
   "version": "3.12.5"
  }
 },
 "nbformat": 4,
 "nbformat_minor": 4
}
