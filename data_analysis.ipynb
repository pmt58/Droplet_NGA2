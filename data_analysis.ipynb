{
 "cells": [
  {
   "cell_type": "code",
   "execution_count": 1,
   "metadata": {},
   "outputs": [],
   "source": [
    "import numpy as np\n",
    "import pandas as pd\n",
    "import matplotlib.pyplot as plt\n",
    "#import scipy.optimize as opt\n",
    "from scipy.optimize import curve_fit\n",
    "import os\n",
    "import re\n"
   ]
  },
  {
   "cell_type": "code",
   "execution_count": 2,
   "metadata": {},
   "outputs": [],
   "source": [
    "def powerlaw(t,K,n,Af,tau):\n",
    "    return Af*(1-np.exp(-K*np.power(t+tau,n)/Af))#/Af))\n"
   ]
  },
  {
   "cell_type": "code",
   "execution_count": 4,
   "metadata": {},
   "outputs": [
    {
     "name": "stderr",
     "output_type": "stream",
     "text": [
      "/tmp/ipykernel_14621/2886488937.py:27: DtypeWarning: Columns (0,1,2,3) have mixed types. Specify dtype option on import or set low_memory=False.\n",
      "  temp=pd.read_csv('./'+f+'/dropinfo',header=0,delimiter='\\\\s+')#,skiprows=1)\n"
     ]
    },
    {
     "ename": "FileNotFoundError",
     "evalue": "[Errno 2] No such file or directory: './data00_2_0_0/dropinfo'",
     "output_type": "error",
     "traceback": [
      "\u001b[0;31m---------------------------------------------------------------------------\u001b[0m",
      "\u001b[0;31mFileNotFoundError\u001b[0m                         Traceback (most recent call last)",
      "Cell \u001b[0;32mIn[4], line 27\u001b[0m\n\u001b[1;32m     25\u001b[0m label_key\u001b[38;5;241m=\u001b[39m[\u001b[38;5;124m'\u001b[39m\u001b[38;5;124m$n_x=16$\u001b[39m\u001b[38;5;124m'\u001b[39m,\u001b[38;5;124m'\u001b[39m\u001b[38;5;124m$n_x=32$\u001b[39m\u001b[38;5;124m'\u001b[39m,\u001b[38;5;124m'\u001b[39m\u001b[38;5;124m$n_x=45$\u001b[39m\u001b[38;5;124m'\u001b[39m]\n\u001b[1;32m     26\u001b[0m \u001b[38;5;28;01mfor\u001b[39;00m f \u001b[38;5;129;01min\u001b[39;00m f_name:\n\u001b[0;32m---> 27\u001b[0m     temp\u001b[38;5;241m=\u001b[39m\u001b[43mpd\u001b[49m\u001b[38;5;241;43m.\u001b[39;49m\u001b[43mread_csv\u001b[49m\u001b[43m(\u001b[49m\u001b[38;5;124;43m'\u001b[39;49m\u001b[38;5;124;43m./\u001b[39;49m\u001b[38;5;124;43m'\u001b[39;49m\u001b[38;5;241;43m+\u001b[39;49m\u001b[43mf\u001b[49m\u001b[38;5;241;43m+\u001b[39;49m\u001b[38;5;124;43m'\u001b[39;49m\u001b[38;5;124;43m/dropinfo\u001b[39;49m\u001b[38;5;124;43m'\u001b[39;49m\u001b[43m,\u001b[49m\u001b[43mheader\u001b[49m\u001b[38;5;241;43m=\u001b[39;49m\u001b[38;5;241;43m0\u001b[39;49m\u001b[43m,\u001b[49m\u001b[43mdelimiter\u001b[49m\u001b[38;5;241;43m=\u001b[39;49m\u001b[38;5;124;43m'\u001b[39;49m\u001b[38;5;130;43;01m\\\\\u001b[39;49;00m\u001b[38;5;124;43ms+\u001b[39;49m\u001b[38;5;124;43m'\u001b[39;49m\u001b[43m)\u001b[49m\u001b[38;5;66;03m#,skiprows=1)\u001b[39;00m\n\u001b[1;32m     28\u001b[0m     data\u001b[38;5;241m=\u001b[39mtemp[\u001b[38;5;241m1\u001b[39m:]\u001b[38;5;241m.\u001b[39mastype(\u001b[38;5;124m'\u001b[39m\u001b[38;5;124mfloat32\u001b[39m\u001b[38;5;124m'\u001b[39m) \u001b[38;5;66;03m# Drop first row and interpret data as floating point numbers. \u001b[39;00m\n\u001b[1;32m     29\u001b[0m     \u001b[38;5;66;03m# === Plot Data === #\u001b[39;00m\n",
      "File \u001b[0;32m~/micromamba/envs/nga/lib/python3.12/site-packages/pandas/io/parsers/readers.py:1026\u001b[0m, in \u001b[0;36mread_csv\u001b[0;34m(filepath_or_buffer, sep, delimiter, header, names, index_col, usecols, dtype, engine, converters, true_values, false_values, skipinitialspace, skiprows, skipfooter, nrows, na_values, keep_default_na, na_filter, verbose, skip_blank_lines, parse_dates, infer_datetime_format, keep_date_col, date_parser, date_format, dayfirst, cache_dates, iterator, chunksize, compression, thousands, decimal, lineterminator, quotechar, quoting, doublequote, escapechar, comment, encoding, encoding_errors, dialect, on_bad_lines, delim_whitespace, low_memory, memory_map, float_precision, storage_options, dtype_backend)\u001b[0m\n\u001b[1;32m   1013\u001b[0m kwds_defaults \u001b[38;5;241m=\u001b[39m _refine_defaults_read(\n\u001b[1;32m   1014\u001b[0m     dialect,\n\u001b[1;32m   1015\u001b[0m     delimiter,\n\u001b[0;32m   (...)\u001b[0m\n\u001b[1;32m   1022\u001b[0m     dtype_backend\u001b[38;5;241m=\u001b[39mdtype_backend,\n\u001b[1;32m   1023\u001b[0m )\n\u001b[1;32m   1024\u001b[0m kwds\u001b[38;5;241m.\u001b[39mupdate(kwds_defaults)\n\u001b[0;32m-> 1026\u001b[0m \u001b[38;5;28;01mreturn\u001b[39;00m \u001b[43m_read\u001b[49m\u001b[43m(\u001b[49m\u001b[43mfilepath_or_buffer\u001b[49m\u001b[43m,\u001b[49m\u001b[43m \u001b[49m\u001b[43mkwds\u001b[49m\u001b[43m)\u001b[49m\n",
      "File \u001b[0;32m~/micromamba/envs/nga/lib/python3.12/site-packages/pandas/io/parsers/readers.py:620\u001b[0m, in \u001b[0;36m_read\u001b[0;34m(filepath_or_buffer, kwds)\u001b[0m\n\u001b[1;32m    617\u001b[0m _validate_names(kwds\u001b[38;5;241m.\u001b[39mget(\u001b[38;5;124m\"\u001b[39m\u001b[38;5;124mnames\u001b[39m\u001b[38;5;124m\"\u001b[39m, \u001b[38;5;28;01mNone\u001b[39;00m))\n\u001b[1;32m    619\u001b[0m \u001b[38;5;66;03m# Create the parser.\u001b[39;00m\n\u001b[0;32m--> 620\u001b[0m parser \u001b[38;5;241m=\u001b[39m \u001b[43mTextFileReader\u001b[49m\u001b[43m(\u001b[49m\u001b[43mfilepath_or_buffer\u001b[49m\u001b[43m,\u001b[49m\u001b[43m \u001b[49m\u001b[38;5;241;43m*\u001b[39;49m\u001b[38;5;241;43m*\u001b[39;49m\u001b[43mkwds\u001b[49m\u001b[43m)\u001b[49m\n\u001b[1;32m    622\u001b[0m \u001b[38;5;28;01mif\u001b[39;00m chunksize \u001b[38;5;129;01mor\u001b[39;00m iterator:\n\u001b[1;32m    623\u001b[0m     \u001b[38;5;28;01mreturn\u001b[39;00m parser\n",
      "File \u001b[0;32m~/micromamba/envs/nga/lib/python3.12/site-packages/pandas/io/parsers/readers.py:1620\u001b[0m, in \u001b[0;36mTextFileReader.__init__\u001b[0;34m(self, f, engine, **kwds)\u001b[0m\n\u001b[1;32m   1617\u001b[0m     \u001b[38;5;28mself\u001b[39m\u001b[38;5;241m.\u001b[39moptions[\u001b[38;5;124m\"\u001b[39m\u001b[38;5;124mhas_index_names\u001b[39m\u001b[38;5;124m\"\u001b[39m] \u001b[38;5;241m=\u001b[39m kwds[\u001b[38;5;124m\"\u001b[39m\u001b[38;5;124mhas_index_names\u001b[39m\u001b[38;5;124m\"\u001b[39m]\n\u001b[1;32m   1619\u001b[0m \u001b[38;5;28mself\u001b[39m\u001b[38;5;241m.\u001b[39mhandles: IOHandles \u001b[38;5;241m|\u001b[39m \u001b[38;5;28;01mNone\u001b[39;00m \u001b[38;5;241m=\u001b[39m \u001b[38;5;28;01mNone\u001b[39;00m\n\u001b[0;32m-> 1620\u001b[0m \u001b[38;5;28mself\u001b[39m\u001b[38;5;241m.\u001b[39m_engine \u001b[38;5;241m=\u001b[39m \u001b[38;5;28;43mself\u001b[39;49m\u001b[38;5;241;43m.\u001b[39;49m\u001b[43m_make_engine\u001b[49m\u001b[43m(\u001b[49m\u001b[43mf\u001b[49m\u001b[43m,\u001b[49m\u001b[43m \u001b[49m\u001b[38;5;28;43mself\u001b[39;49m\u001b[38;5;241;43m.\u001b[39;49m\u001b[43mengine\u001b[49m\u001b[43m)\u001b[49m\n",
      "File \u001b[0;32m~/micromamba/envs/nga/lib/python3.12/site-packages/pandas/io/parsers/readers.py:1880\u001b[0m, in \u001b[0;36mTextFileReader._make_engine\u001b[0;34m(self, f, engine)\u001b[0m\n\u001b[1;32m   1878\u001b[0m     \u001b[38;5;28;01mif\u001b[39;00m \u001b[38;5;124m\"\u001b[39m\u001b[38;5;124mb\u001b[39m\u001b[38;5;124m\"\u001b[39m \u001b[38;5;129;01mnot\u001b[39;00m \u001b[38;5;129;01min\u001b[39;00m mode:\n\u001b[1;32m   1879\u001b[0m         mode \u001b[38;5;241m+\u001b[39m\u001b[38;5;241m=\u001b[39m \u001b[38;5;124m\"\u001b[39m\u001b[38;5;124mb\u001b[39m\u001b[38;5;124m\"\u001b[39m\n\u001b[0;32m-> 1880\u001b[0m \u001b[38;5;28mself\u001b[39m\u001b[38;5;241m.\u001b[39mhandles \u001b[38;5;241m=\u001b[39m \u001b[43mget_handle\u001b[49m\u001b[43m(\u001b[49m\n\u001b[1;32m   1881\u001b[0m \u001b[43m    \u001b[49m\u001b[43mf\u001b[49m\u001b[43m,\u001b[49m\n\u001b[1;32m   1882\u001b[0m \u001b[43m    \u001b[49m\u001b[43mmode\u001b[49m\u001b[43m,\u001b[49m\n\u001b[1;32m   1883\u001b[0m \u001b[43m    \u001b[49m\u001b[43mencoding\u001b[49m\u001b[38;5;241;43m=\u001b[39;49m\u001b[38;5;28;43mself\u001b[39;49m\u001b[38;5;241;43m.\u001b[39;49m\u001b[43moptions\u001b[49m\u001b[38;5;241;43m.\u001b[39;49m\u001b[43mget\u001b[49m\u001b[43m(\u001b[49m\u001b[38;5;124;43m\"\u001b[39;49m\u001b[38;5;124;43mencoding\u001b[39;49m\u001b[38;5;124;43m\"\u001b[39;49m\u001b[43m,\u001b[49m\u001b[43m \u001b[49m\u001b[38;5;28;43;01mNone\u001b[39;49;00m\u001b[43m)\u001b[49m\u001b[43m,\u001b[49m\n\u001b[1;32m   1884\u001b[0m \u001b[43m    \u001b[49m\u001b[43mcompression\u001b[49m\u001b[38;5;241;43m=\u001b[39;49m\u001b[38;5;28;43mself\u001b[39;49m\u001b[38;5;241;43m.\u001b[39;49m\u001b[43moptions\u001b[49m\u001b[38;5;241;43m.\u001b[39;49m\u001b[43mget\u001b[49m\u001b[43m(\u001b[49m\u001b[38;5;124;43m\"\u001b[39;49m\u001b[38;5;124;43mcompression\u001b[39;49m\u001b[38;5;124;43m\"\u001b[39;49m\u001b[43m,\u001b[49m\u001b[43m \u001b[49m\u001b[38;5;28;43;01mNone\u001b[39;49;00m\u001b[43m)\u001b[49m\u001b[43m,\u001b[49m\n\u001b[1;32m   1885\u001b[0m \u001b[43m    \u001b[49m\u001b[43mmemory_map\u001b[49m\u001b[38;5;241;43m=\u001b[39;49m\u001b[38;5;28;43mself\u001b[39;49m\u001b[38;5;241;43m.\u001b[39;49m\u001b[43moptions\u001b[49m\u001b[38;5;241;43m.\u001b[39;49m\u001b[43mget\u001b[49m\u001b[43m(\u001b[49m\u001b[38;5;124;43m\"\u001b[39;49m\u001b[38;5;124;43mmemory_map\u001b[39;49m\u001b[38;5;124;43m\"\u001b[39;49m\u001b[43m,\u001b[49m\u001b[43m \u001b[49m\u001b[38;5;28;43;01mFalse\u001b[39;49;00m\u001b[43m)\u001b[49m\u001b[43m,\u001b[49m\n\u001b[1;32m   1886\u001b[0m \u001b[43m    \u001b[49m\u001b[43mis_text\u001b[49m\u001b[38;5;241;43m=\u001b[39;49m\u001b[43mis_text\u001b[49m\u001b[43m,\u001b[49m\n\u001b[1;32m   1887\u001b[0m \u001b[43m    \u001b[49m\u001b[43merrors\u001b[49m\u001b[38;5;241;43m=\u001b[39;49m\u001b[38;5;28;43mself\u001b[39;49m\u001b[38;5;241;43m.\u001b[39;49m\u001b[43moptions\u001b[49m\u001b[38;5;241;43m.\u001b[39;49m\u001b[43mget\u001b[49m\u001b[43m(\u001b[49m\u001b[38;5;124;43m\"\u001b[39;49m\u001b[38;5;124;43mencoding_errors\u001b[39;49m\u001b[38;5;124;43m\"\u001b[39;49m\u001b[43m,\u001b[49m\u001b[43m \u001b[49m\u001b[38;5;124;43m\"\u001b[39;49m\u001b[38;5;124;43mstrict\u001b[39;49m\u001b[38;5;124;43m\"\u001b[39;49m\u001b[43m)\u001b[49m\u001b[43m,\u001b[49m\n\u001b[1;32m   1888\u001b[0m \u001b[43m    \u001b[49m\u001b[43mstorage_options\u001b[49m\u001b[38;5;241;43m=\u001b[39;49m\u001b[38;5;28;43mself\u001b[39;49m\u001b[38;5;241;43m.\u001b[39;49m\u001b[43moptions\u001b[49m\u001b[38;5;241;43m.\u001b[39;49m\u001b[43mget\u001b[49m\u001b[43m(\u001b[49m\u001b[38;5;124;43m\"\u001b[39;49m\u001b[38;5;124;43mstorage_options\u001b[39;49m\u001b[38;5;124;43m\"\u001b[39;49m\u001b[43m,\u001b[49m\u001b[43m \u001b[49m\u001b[38;5;28;43;01mNone\u001b[39;49;00m\u001b[43m)\u001b[49m\u001b[43m,\u001b[49m\n\u001b[1;32m   1889\u001b[0m \u001b[43m\u001b[49m\u001b[43m)\u001b[49m\n\u001b[1;32m   1890\u001b[0m \u001b[38;5;28;01massert\u001b[39;00m \u001b[38;5;28mself\u001b[39m\u001b[38;5;241m.\u001b[39mhandles \u001b[38;5;129;01mis\u001b[39;00m \u001b[38;5;129;01mnot\u001b[39;00m \u001b[38;5;28;01mNone\u001b[39;00m\n\u001b[1;32m   1891\u001b[0m f \u001b[38;5;241m=\u001b[39m \u001b[38;5;28mself\u001b[39m\u001b[38;5;241m.\u001b[39mhandles\u001b[38;5;241m.\u001b[39mhandle\n",
      "File \u001b[0;32m~/micromamba/envs/nga/lib/python3.12/site-packages/pandas/io/common.py:873\u001b[0m, in \u001b[0;36mget_handle\u001b[0;34m(path_or_buf, mode, encoding, compression, memory_map, is_text, errors, storage_options)\u001b[0m\n\u001b[1;32m    868\u001b[0m \u001b[38;5;28;01melif\u001b[39;00m \u001b[38;5;28misinstance\u001b[39m(handle, \u001b[38;5;28mstr\u001b[39m):\n\u001b[1;32m    869\u001b[0m     \u001b[38;5;66;03m# Check whether the filename is to be opened in binary mode.\u001b[39;00m\n\u001b[1;32m    870\u001b[0m     \u001b[38;5;66;03m# Binary mode does not support 'encoding' and 'newline'.\u001b[39;00m\n\u001b[1;32m    871\u001b[0m     \u001b[38;5;28;01mif\u001b[39;00m ioargs\u001b[38;5;241m.\u001b[39mencoding \u001b[38;5;129;01mand\u001b[39;00m \u001b[38;5;124m\"\u001b[39m\u001b[38;5;124mb\u001b[39m\u001b[38;5;124m\"\u001b[39m \u001b[38;5;129;01mnot\u001b[39;00m \u001b[38;5;129;01min\u001b[39;00m ioargs\u001b[38;5;241m.\u001b[39mmode:\n\u001b[1;32m    872\u001b[0m         \u001b[38;5;66;03m# Encoding\u001b[39;00m\n\u001b[0;32m--> 873\u001b[0m         handle \u001b[38;5;241m=\u001b[39m \u001b[38;5;28;43mopen\u001b[39;49m\u001b[43m(\u001b[49m\n\u001b[1;32m    874\u001b[0m \u001b[43m            \u001b[49m\u001b[43mhandle\u001b[49m\u001b[43m,\u001b[49m\n\u001b[1;32m    875\u001b[0m \u001b[43m            \u001b[49m\u001b[43mioargs\u001b[49m\u001b[38;5;241;43m.\u001b[39;49m\u001b[43mmode\u001b[49m\u001b[43m,\u001b[49m\n\u001b[1;32m    876\u001b[0m \u001b[43m            \u001b[49m\u001b[43mencoding\u001b[49m\u001b[38;5;241;43m=\u001b[39;49m\u001b[43mioargs\u001b[49m\u001b[38;5;241;43m.\u001b[39;49m\u001b[43mencoding\u001b[49m\u001b[43m,\u001b[49m\n\u001b[1;32m    877\u001b[0m \u001b[43m            \u001b[49m\u001b[43merrors\u001b[49m\u001b[38;5;241;43m=\u001b[39;49m\u001b[43merrors\u001b[49m\u001b[43m,\u001b[49m\n\u001b[1;32m    878\u001b[0m \u001b[43m            \u001b[49m\u001b[43mnewline\u001b[49m\u001b[38;5;241;43m=\u001b[39;49m\u001b[38;5;124;43m\"\u001b[39;49m\u001b[38;5;124;43m\"\u001b[39;49m\u001b[43m,\u001b[49m\n\u001b[1;32m    879\u001b[0m \u001b[43m        \u001b[49m\u001b[43m)\u001b[49m\n\u001b[1;32m    880\u001b[0m     \u001b[38;5;28;01melse\u001b[39;00m:\n\u001b[1;32m    881\u001b[0m         \u001b[38;5;66;03m# Binary mode\u001b[39;00m\n\u001b[1;32m    882\u001b[0m         handle \u001b[38;5;241m=\u001b[39m \u001b[38;5;28mopen\u001b[39m(handle, ioargs\u001b[38;5;241m.\u001b[39mmode)\n",
      "\u001b[0;31mFileNotFoundError\u001b[0m: [Errno 2] No such file or directory: './data00_2_0_0/dropinfo'"
     ]
    },
    {
     "data": {
      "image/png": "[encoded data removed]",
      "text/plain": [
       "<Figure size 500x300 with 1 Axes>"
      ]
     },
     "metadata": {},
     "output_type": "display_data"
    }
   ],
   "source": [
    "plt.figure(figsize=(5,3))\n",
    "file_temp=next(os.walk('.'))[1]\n",
    "cst=0\n",
    "f_name=[\"\"]\n",
    "f_id=[\"\"]\n",
    "for temp in file_temp:\n",
    "    match=re.search(\"data00_\",temp)\n",
    "    if match:\n",
    "        f_name.append(temp)\n",
    "        f_id.append(temp.split('_')[1])\n",
    "        #f_id.append(temp.split('_')[2])\n",
    "        \n",
    "        cst=cst+1\n",
    "f_name=np.array(f_name[1:])#,dtype=np.str)\n",
    "f_id=np.array(f_id[1:],dtype=np.float32)\n",
    "f_sorted=np.sort(f_id)\n",
    "index=np.zeros(np.size(f_id)).astype('int32')\n",
    "f_name_sorted=np.empty(np.size(f_name),dtype='<U14')\n",
    "for i in range(np.size(f_id)):\n",
    "    index[i]=np.where(f_id==f_sorted[i])[0][0].astype('int32')#,f_id)\n",
    "    f_name_sorted[i]=f_name[index[i]]\n",
    "n=np.size(f_id)\n",
    "fit_param=np.zeros([n,4])\n",
    "i=0\n",
    "label_key=['$n_x=16$','$n_x=32$','$n_x=45$']\n",
    "for f in f_name:\n",
    "    temp=pd.read_csv('./'+f+'/dropinfo',header=0,delimiter='\\\\s+')#,skiprows=1)\n",
    "    data=temp[1:].astype('float32') # Drop first row and interpret data as floating point numbers. \n",
    "    # === Plot Data === #\n",
    "    xdata=data['Time'].to_numpy()\n",
    "    ydata=data['WetAreaFract'].to_numpy()\n",
    "    p=plt.semilogx(xdata,ydata,label='$'+f.split('_')[1]+'-n_x='+f.split('_')[3]+'$')\n",
    "    # === Fit model === #\n",
    "    #popt, pcov = curve_fit(powerlaw, data['Time'], np.pi*np.power(data['Wetted'],2),[1,0.5,1,8])\n",
    "    popt, pcov = curve_fit(powerlaw, xdata, ydata,bounds=(10**-3,[10,10,10,2]))\n",
    "    fit_param[i,:]=popt\n",
    "    #p=plt.plot(xdata,powerlaw(xdata,popt[0],popt[1],popt[2],popt[3]),'--',color=p[0].get_color())\n",
    "    i=i+1\n",
    "\n",
    "plt.xlim([0.01,8])\n",
    "plt.ylim([0,np.max(ydata)*1.1])\n",
    "plt.title('Droplet Spreading at Oh=0.05')\n",
    "plt.xlabel('time')\n",
    "plt.ylabel('Radius')\n",
    "plt.legend()\n",
    "plt.grid()\n",
    "plt.show()\n",
    "\n"
   ]
  },
  {
   "cell_type": "code",
   "execution_count": null,
   "metadata": {},
   "outputs": [],
   "source": [
    "# K,n,Af,tau\n",
    "a=plt.plot(np.log10(f_id),fit_param[:,0]/np.max(fit_param[:,0]),'-o',label='K')\n",
    "a=plt.plot(np.log10(f_id),fit_param[:,1]/np.max(fit_param[:,1]),'-o',label='n')\n",
    "a=plt.plot(np.log10(f_id),fit_param[:,2]/np.max(fit_param[:,2]),'-o',label='Af')\n",
    "a=plt.plot(np.log10(f_id),fit_param[:,3]/np.max(fit_param[:,3]),'-o',label='tau')\n",
    "plt.title('beta')\n",
    "plt.xlabel('log beta')\n",
    "plt.ylabel('normalized fit variables')\n",
    "plt.legend()\n",
    "\n",
    "plt.grid()\n",
    "plt.show()"
   ]
  },
  {
   "cell_type": "code",
   "execution_count": 9,
   "metadata": {},
   "outputs": [
    {
     "data": {
      "image/png": "[encoded data removed]",
      "text/plain": [
       "<Figure size 640x480 with 1 Axes>"
      ]
     },
     "metadata": {},
     "output_type": "display_data"
    }
   ],
   "source": [
    "for f in f_name:\n",
    "    temp=pd.read_csv('./'+f+'/dropinfo',header=0,delimiter='\\\\s+')#,skiprows=1)\n",
    "    data=temp[1:].astype('float32') # Drop first row and interpret data as floating point numbers. \n",
    "    xdata=data['CL'].to_numpy()\n",
    "    ydata=data['CA.1'].to_numpy()\n",
    "    p=plt.plot(xdata,ydata,label=f.split('_')[1]+f.split('_')[3])\n",
    "    plt.legend()\n",
    "    plt.title('DCA evolution')\n",
    "    plt.xlabel('U_CL')\n",
    "    plt.ylabel('DCA')\n",
    "    plt.xlim([-1.2*np.max(xdata),1.2*np.max(xdata)])\n",
    "    plt.ylim([40,160])\n",
    "    plt.grid()\n",
    "plt.show()\n",
    "    "
   ]
  },
  {
   "cell_type": "code",
   "execution_count": 4,
   "metadata": {},
   "outputs": [
    {
     "data": {
      "text/html": [
       "<div>\n",
       "<style scoped>\n",
       "    .dataframe tbody tr th:only-of-type {\n",
       "        vertical-align: middle;\n",
       "    }\n",
       "\n",
       "    .dataframe tbody tr th {\n",
       "        vertical-align: top;\n",
       "    }\n",
       "\n",
       "    .dataframe thead th {\n",
       "        text-align: right;\n",
       "    }\n",
       "</style>\n",
       "<table border=\"1\" class=\"dataframe\">\n",
       "  <thead>\n",
       "    <tr style=\"text-align: right;\">\n",
       "      <th></th>\n",
       "      <th>Timestep</th>\n",
       "      <th>Time</th>\n",
       "      <th>VOFmax</th>\n",
       "      <th>VOFmin</th>\n",
       "      <th>Totalvol</th>\n",
       "      <th>Dropheight</th>\n",
       "      <th>WetAreaFract</th>\n",
       "      <th>VoF_WF</th>\n",
       "      <th>CL</th>\n",
       "      <th>CA</th>\n",
       "      <th>CA.1</th>\n",
       "      <th>C</th>\n",
       "      <th>alpha</th>\n",
       "    </tr>\n",
       "  </thead>\n",
       "  <tbody>\n",
       "    <tr>\n",
       "      <th>1</th>\n",
       "      <td>0.0</td>\n",
       "      <td>0.000000</td>\n",
       "      <td>1.0</td>\n",
       "      <td>0.0</td>\n",
       "      <td>4.18808</td>\n",
       "      <td>1.85300</td>\n",
       "      <td>0.354473</td>\n",
       "      <td>0.416599</td>\n",
       "      <td>0.000000</td>\n",
       "      <td>2.24501</td>\n",
       "      <td>128.630005</td>\n",
       "      <td>0.354473</td>\n",
       "      <td>0.000000</td>\n",
       "    </tr>\n",
       "    <tr>\n",
       "      <th>2</th>\n",
       "      <td>1.0</td>\n",
       "      <td>0.010000</td>\n",
       "      <td>1.0</td>\n",
       "      <td>0.0</td>\n",
       "      <td>4.18864</td>\n",
       "      <td>1.85300</td>\n",
       "      <td>0.355069</td>\n",
       "      <td>0.416932</td>\n",
       "      <td>0.059601</td>\n",
       "      <td>2.24294</td>\n",
       "      <td>128.511002</td>\n",
       "      <td>0.357824</td>\n",
       "      <td>0.001679</td>\n",
       "    </tr>\n",
       "    <tr>\n",
       "      <th>3</th>\n",
       "      <td>2.0</td>\n",
       "      <td>0.020000</td>\n",
       "      <td>1.0</td>\n",
       "      <td>0.0</td>\n",
       "      <td>4.18924</td>\n",
       "      <td>1.85301</td>\n",
       "      <td>0.355718</td>\n",
       "      <td>0.417296</td>\n",
       "      <td>0.064868</td>\n",
       "      <td>2.24070</td>\n",
       "      <td>128.382996</td>\n",
       "      <td>0.360829</td>\n",
       "      <td>0.003647</td>\n",
       "    </tr>\n",
       "    <tr>\n",
       "      <th>4</th>\n",
       "      <td>3.0</td>\n",
       "      <td>0.030000</td>\n",
       "      <td>1.0</td>\n",
       "      <td>0.0</td>\n",
       "      <td>4.18983</td>\n",
       "      <td>1.85301</td>\n",
       "      <td>0.356381</td>\n",
       "      <td>0.417668</td>\n",
       "      <td>0.066370</td>\n",
       "      <td>2.23838</td>\n",
       "      <td>128.250000</td>\n",
       "      <td>0.363432</td>\n",
       "      <td>0.005587</td>\n",
       "    </tr>\n",
       "    <tr>\n",
       "      <th>5</th>\n",
       "      <td>4.0</td>\n",
       "      <td>0.040000</td>\n",
       "      <td>1.0</td>\n",
       "      <td>0.0</td>\n",
       "      <td>4.19042</td>\n",
       "      <td>1.85301</td>\n",
       "      <td>0.357059</td>\n",
       "      <td>0.418046</td>\n",
       "      <td>0.067751</td>\n",
       "      <td>2.23601</td>\n",
       "      <td>128.113998</td>\n",
       "      <td>0.365889</td>\n",
       "      <td>0.007590</td>\n",
       "    </tr>\n",
       "    <tr>\n",
       "      <th>...</th>\n",
       "      <td>...</td>\n",
       "      <td>...</td>\n",
       "      <td>...</td>\n",
       "      <td>...</td>\n",
       "      <td>...</td>\n",
       "      <td>...</td>\n",
       "      <td>...</td>\n",
       "      <td>...</td>\n",
       "      <td>...</td>\n",
       "      <td>...</td>\n",
       "      <td>...</td>\n",
       "      <td>...</td>\n",
       "      <td>...</td>\n",
       "    </tr>\n",
       "    <tr>\n",
       "      <th>1997</th>\n",
       "      <td>1996.0</td>\n",
       "      <td>19.959999</td>\n",
       "      <td>1.0</td>\n",
       "      <td>0.0</td>\n",
       "      <td>4.18519</td>\n",
       "      <td>1.05301</td>\n",
       "      <td>0.920637</td>\n",
       "      <td>0.875387</td>\n",
       "      <td>-0.001114</td>\n",
       "      <td>1.04368</td>\n",
       "      <td>59.798302</td>\n",
       "      <td>0.989670</td>\n",
       "      <td>-0.024153</td>\n",
       "    </tr>\n",
       "    <tr>\n",
       "      <th>1998</th>\n",
       "      <td>1997.0</td>\n",
       "      <td>19.969999</td>\n",
       "      <td>1.0</td>\n",
       "      <td>0.0</td>\n",
       "      <td>4.18518</td>\n",
       "      <td>1.05303</td>\n",
       "      <td>0.920626</td>\n",
       "      <td>0.875378</td>\n",
       "      <td>-0.001113</td>\n",
       "      <td>1.04370</td>\n",
       "      <td>59.799599</td>\n",
       "      <td>0.989624</td>\n",
       "      <td>-0.024137</td>\n",
       "    </tr>\n",
       "    <tr>\n",
       "      <th>1999</th>\n",
       "      <td>1998.0</td>\n",
       "      <td>19.980000</td>\n",
       "      <td>1.0</td>\n",
       "      <td>0.0</td>\n",
       "      <td>4.18517</td>\n",
       "      <td>1.05304</td>\n",
       "      <td>0.920615</td>\n",
       "      <td>0.875369</td>\n",
       "      <td>-0.001111</td>\n",
       "      <td>1.04372</td>\n",
       "      <td>59.800800</td>\n",
       "      <td>0.989577</td>\n",
       "      <td>-0.024121</td>\n",
       "    </tr>\n",
       "    <tr>\n",
       "      <th>2000</th>\n",
       "      <td>1999.0</td>\n",
       "      <td>19.990000</td>\n",
       "      <td>1.0</td>\n",
       "      <td>0.0</td>\n",
       "      <td>4.18516</td>\n",
       "      <td>1.05306</td>\n",
       "      <td>0.920603</td>\n",
       "      <td>0.875361</td>\n",
       "      <td>-0.001110</td>\n",
       "      <td>1.04374</td>\n",
       "      <td>59.802101</td>\n",
       "      <td>0.989530</td>\n",
       "      <td>-0.024105</td>\n",
       "    </tr>\n",
       "    <tr>\n",
       "      <th>2001</th>\n",
       "      <td>2000.0</td>\n",
       "      <td>20.000000</td>\n",
       "      <td>1.0</td>\n",
       "      <td>0.0</td>\n",
       "      <td>4.18514</td>\n",
       "      <td>1.05307</td>\n",
       "      <td>0.920592</td>\n",
       "      <td>0.875352</td>\n",
       "      <td>-0.001109</td>\n",
       "      <td>1.04376</td>\n",
       "      <td>59.803299</td>\n",
       "      <td>0.989484</td>\n",
       "      <td>-0.024090</td>\n",
       "    </tr>\n",
       "  </tbody>\n",
       "</table>\n",
       "<p>2001 rows × 13 columns</p>\n",
       "</div>"
      ],
      "text/plain": [
       "      Timestep       Time  VOFmax  VOFmin  Totalvol  Dropheight  WetAreaFract  \\\n",
       "1          0.0   0.000000     1.0     0.0   4.18808     1.85300      0.354473   \n",
       "2          1.0   0.010000     1.0     0.0   4.18864     1.85300      0.355069   \n",
       "3          2.0   0.020000     1.0     0.0   4.18924     1.85301      0.355718   \n",
       "4          3.0   0.030000     1.0     0.0   4.18983     1.85301      0.356381   \n",
       "5          4.0   0.040000     1.0     0.0   4.19042     1.85301      0.357059   \n",
       "...        ...        ...     ...     ...       ...         ...           ...   \n",
       "1997    1996.0  19.959999     1.0     0.0   4.18519     1.05301      0.920637   \n",
       "1998    1997.0  19.969999     1.0     0.0   4.18518     1.05303      0.920626   \n",
       "1999    1998.0  19.980000     1.0     0.0   4.18517     1.05304      0.920615   \n",
       "2000    1999.0  19.990000     1.0     0.0   4.18516     1.05306      0.920603   \n",
       "2001    2000.0  20.000000     1.0     0.0   4.18514     1.05307      0.920592   \n",
       "\n",
       "        VoF_WF        CL       CA        CA.1         C     alpha  \n",
       "1     0.416599  0.000000  2.24501  128.630005  0.354473  0.000000  \n",
       "2     0.416932  0.059601  2.24294  128.511002  0.357824  0.001679  \n",
       "3     0.417296  0.064868  2.24070  128.382996  0.360829  0.003647  \n",
       "4     0.417668  0.066370  2.23838  128.250000  0.363432  0.005587  \n",
       "5     0.418046  0.067751  2.23601  128.113998  0.365889  0.007590  \n",
       "...        ...       ...      ...         ...       ...       ...  \n",
       "1997  0.875387 -0.001114  1.04368   59.798302  0.989670 -0.024153  \n",
       "1998  0.875378 -0.001113  1.04370   59.799599  0.989624 -0.024137  \n",
       "1999  0.875369 -0.001111  1.04372   59.800800  0.989577 -0.024121  \n",
       "2000  0.875361 -0.001110  1.04374   59.802101  0.989530 -0.024105  \n",
       "2001  0.875352 -0.001109  1.04376   59.803299  0.989484 -0.024090  \n",
       "\n",
       "[2001 rows x 13 columns]"
      ]
     },
     "execution_count": 4,
     "metadata": {},
     "output_type": "execute_result"
    }
   ],
   "source": [
    "data"
   ]
  },
  {
   "cell_type": "code",
   "execution_count": 18,
   "metadata": {},
   "outputs": [
    {
     "data": {
      "text/plain": [
       "np.float32(70000.44)"
      ]
     },
     "execution_count": 18,
     "metadata": {},
     "output_type": "execute_result"
    }
   ],
   "source": [
    "np.max(ydata)"
   ]
  },
  {
   "cell_type": "code",
   "execution_count": 36,
   "metadata": {},
   "outputs": [
    {
     "data": {
      "text/plain": [
       "array([[5.30037902e-01, 6.30834679e-01, 3.59550164e+00, 3.42524170e-02],\n",
       "       [2.03964475e-01, 2.13751348e+00, 7.74362696e+00, 6.95567387e-01],\n",
       "       [1.49548545e+00, 1.46967570e+00, 8.10311914e+00, 1.00000000e-03],\n",
       "       [4.49041604e+00, 1.05884132e+00, 8.29380617e+00, 1.00000000e-03],\n",
       "       [5.97011383e+00, 8.81841051e-01, 8.38774281e+00, 1.07507007e-02]])"
      ]
     },
     "execution_count": 36,
     "metadata": {},
     "output_type": "execute_result"
    }
   ],
   "source": [
    "# K,n,Af,tau\n",
    "fit_param"
   ]
  },
  {
   "cell_type": "code",
   "execution_count": 40,
   "metadata": {},
   "outputs": [
    {
     "data": {
      "text/plain": [
       "array([0.05, 0.1 , 0.2 , 0.4 , 0.6 , 0.8 , 1.  , 5.  ], dtype=float32)"
      ]
     },
     "execution_count": 40,
     "metadata": {},
     "output_type": "execute_result"
    }
   ],
   "source": [
    "f_sorted"
   ]
  },
  {
   "cell_type": "code",
   "execution_count": 18,
   "metadata": {},
   "outputs": [
    {
     "data": {
      "text/plain": [
       "array(['monitor2_0.3', 'monitor2_0.05', 'monitor2_0.01', 'monitor2_0.1',\n",
       "       'monitor2_1'], dtype='<U13')"
      ]
     },
     "execution_count": 18,
     "metadata": {},
     "output_type": "execute_result"
    }
   ],
   "source": [
    "f_name\n"
   ]
  },
  {
   "cell_type": "code",
   "execution_count": null,
   "metadata": {},
   "outputs": [],
   "source": []
  }
 ],
 "metadata": {
  "kernelspec": {
   "display_name": "nga",
   "language": "python",
   "name": "nga"
  },
  "language_info": {
   "codemirror_mode": {
    "name": "ipython",
    "version": 3
   },
   "file_extension": ".py",
   "mimetype": "text/x-python",
   "name": "python",
   "nbconvert_exporter": "python",
   "pygments_lexer": "ipython3",
   "version": "3.12.5"
  }
 },
 "nbformat": 4,
 "nbformat_minor": 4
}
