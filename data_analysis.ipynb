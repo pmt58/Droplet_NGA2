{
 "cells": [
  {
   "cell_type": "code",
   "execution_count": 2,
   "metadata": {},
   "outputs": [],
   "source": [
    "import numpy as np\n",
    "import pandas as pd\n",
    "import matplotlib.pyplot as plt\n",
    "#import scipy.optimize as opt\n",
    "from scipy.optimize import curve_fit\n",
    "import os\n",
    "import re\n"
   ]
  },
  {
   "cell_type": "code",
   "execution_count": 3,
   "metadata": {},
   "outputs": [],
   "source": [
    "def powerlaw(t,K,n,Af,tau):\n",
    "    return Af*(1-np.exp(-K*np.power(t+tau,n)/Af))#/Af))\n"
   ]
  },
  {
   "cell_type": "code",
   "execution_count": null,
   "metadata": {},
   "outputs": [],
   "source": [
    "file_temp=next(os.walk('.'))[1]\n",
    "cst=0\n",
    "f_name=[\"\"]\n",
    "f_id=[\"\"]\n",
    "for temp in file_temp:\n",
    "    match=re.search(\"data_*\",temp)\n",
    "    if match:\n",
    "        f_name.append(temp)\n",
    "        f_id.append(temp.split('_')[1])\n",
    "        f_id.append(temp.split('_')[2])\n",
    "        \n",
    "        cst=cst+1\n",
    "f_name=np.array(f_name[1:])#,dtype=np.str)\n",
    "f_id=np.array(f_id[1:],dtype=np.float32)\n",
    "f_sorted=np.sort(f_id)\n",
    "index=np.zeros(np.size(f_id)).astype('int32')\n",
    "f_name_sorted=np.empty(np.size(f_name),dtype='<U14')\n",
    "for i in range(np.size(f_id)):\n",
    "    index[i]=np.where(f_id==f_sorted[i])[0][0].astype('int32')#,f_id)\n",
    "    #f_name_sorted[i]=f_name[index[i]]\n",
    "n=np.size(f_id)\n",
    "fit_param=np.zeros([n,4])\n",
    "i=0\n",
    "for f in f_name:\n",
    "    temp=pd.read_csv('./'+f+'/dropinfo',header=0,delimiter='\\\\s+')#,skiprows=1)\n",
    "    data=temp[1:].astype('float32') # Drop first row and interpret data as floating point numbers. \n",
    "    # === Plot Data === #\n",
    "    xdata=data['Time'].to_numpy()\n",
    "    ydata=np.pi*np.power(data['Wetted'].to_numpy(),2)\n",
    "    p=plt.plot(xdata,ydata,label=f.split('_')[1])\n",
    "    # === Fit model === #\n",
    "    #popt, pcov = curve_fit(powerlaw, data['Time'], np.pi*np.power(data['Wetted'],2),[1,0.5,1,8])\n",
    "    popt, pcov = curve_fit(powerlaw, xdata, ydata,bounds=(10**-3,[10,10,10,2]))\n",
    "    fit_param[i,:]=popt\n",
    "    p=plt.plot(xdata,powerlaw(xdata,popt[0],popt[1],popt[2],popt[3]),'--',color=p[0].get_color())\n",
    "    i=i+1\n",
    "\n",
    "plt.ylim([0,np.pi*np.power(np.max(data['Wetted']),2)*1.2])\n",
    "plt.title('Droplet Spreading')\n",
    "plt.xlabel('time')\n",
    "plt.ylabel('Area')\n",
    "plt.legend()\n",
    "plt.grid()\n",
    "plt.show()\n",
    "    "
   ]
  },
  {
   "cell_type": "code",
   "execution_count": null,
   "metadata": {},
   "outputs": [],
   "source": [
    "# K,n,Af,tau\n",
    "a=plt.plot(np.log10(f_id),fit_param[:,0]/np.max(fit_param[:,0]),'-o',label='K')\n",
    "a=plt.plot(np.log10(f_id),fit_param[:,1]/np.max(fit_param[:,1]),'-o',label='n')\n",
    "a=plt.plot(np.log10(f_id),fit_param[:,2]/np.max(fit_param[:,2]),'-o',label='Af')\n",
    "a=plt.plot(np.log10(f_id),fit_param[:,3]/np.max(fit_param[:,3]),'-o',label='tau')\n",
    "plt.title('beta')\n",
    "plt.xlabel('log beta')\n",
    "plt.ylabel('normalized fit variables')\n",
    "plt.legend()\n",
    "\n",
    "plt.grid()\n",
    "plt.show()"
   ]
  },
  {
   "cell_type": "code",
   "execution_count": 5,
   "metadata": {},
   "outputs": [
    {
     "data": {
      "text/plain": [
       "array(['data_0_0', 'data_1_0', 'data_1_1', 'data_0_1'], dtype='<U8')"
      ]
     },
     "execution_count": 5,
     "metadata": {},
     "output_type": "execute_result"
    }
   ],
   "source": [
    "f_name"
   ]
  },
  {
   "cell_type": "code",
   "execution_count": 36,
   "metadata": {},
   "outputs": [
    {
     "data": {
      "text/plain": [
       "array([[5.30037902e-01, 6.30834679e-01, 3.59550164e+00, 3.42524170e-02],\n",
       "       [2.03964475e-01, 2.13751348e+00, 7.74362696e+00, 6.95567387e-01],\n",
       "       [1.49548545e+00, 1.46967570e+00, 8.10311914e+00, 1.00000000e-03],\n",
       "       [4.49041604e+00, 1.05884132e+00, 8.29380617e+00, 1.00000000e-03],\n",
       "       [5.97011383e+00, 8.81841051e-01, 8.38774281e+00, 1.07507007e-02]])"
      ]
     },
     "execution_count": 36,
     "metadata": {},
     "output_type": "execute_result"
    }
   ],
   "source": [
    "# K,n,Af,tau\n",
    "fit_param"
   ]
  },
  {
   "cell_type": "code",
   "execution_count": 40,
   "metadata": {},
   "outputs": [
    {
     "data": {
      "text/plain": [
       "array([0.05, 0.1 , 0.2 , 0.4 , 0.6 , 0.8 , 1.  , 5.  ], dtype=float32)"
      ]
     },
     "execution_count": 40,
     "metadata": {},
     "output_type": "execute_result"
    }
   ],
   "source": [
    "f_sorted"
   ]
  },
  {
   "cell_type": "code",
   "execution_count": 18,
   "metadata": {},
   "outputs": [
    {
     "data": {
      "text/plain": [
       "array(['monitor2_0.3', 'monitor2_0.05', 'monitor2_0.01', 'monitor2_0.1',\n",
       "       'monitor2_1'], dtype='<U13')"
      ]
     },
     "execution_count": 18,
     "metadata": {},
     "output_type": "execute_result"
    }
   ],
   "source": [
    "f_name\n"
   ]
  },
  {
   "cell_type": "code",
   "execution_count": null,
   "metadata": {},
   "outputs": [],
   "source": []
  }
 ],
 "metadata": {
  "kernelspec": {
   "display_name": "nga",
   "language": "python",
   "name": "nga"
  },
  "language_info": {
   "codemirror_mode": {
    "name": "ipython",
    "version": 3
   },
   "file_extension": ".py",
   "mimetype": "text/x-python",
   "name": "python",
   "nbconvert_exporter": "python",
   "pygments_lexer": "ipython3",
   "version": "3.12.5"
  }
 },
 "nbformat": 4,
 "nbformat_minor": 4
}
