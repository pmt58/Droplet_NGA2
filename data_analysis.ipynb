{
 "cells": [
  {
   "cell_type": "code",
   "execution_count": 3,
   "metadata": {},
   "outputs": [],
   "source": [
    "import numpy as np\n",
    "import pandas as pd\n",
    "import matplotlib.pyplot as plt\n",
    "import scipy.optimize as opt\n",
    "import os\n",
    "import re\n"
   ]
  },
  {
   "cell_type": "code",
   "execution_count": null,
   "metadata": {},
   "outputs": [],
   "source": [
    "file_temp=next(os.walk('.'))[1]\n",
    "cst=0\n",
    "f_name=[\"\"]\n",
    "for temp in file_temp:\n",
    "    match=re.search(\"monitor_*\",temp)\n",
    "    if match:\n",
    "        f_name.append(temp)\n",
    "        cst=cst+1\n",
    "f_name=f_name[1:-1]\n",
    "\n",
    "for f in f_name:\n",
    "    temp=pd.read_csv('./'+f+'/dropinfo',header=0,delimiter='\\\\s+')#,skiprows=1)\n",
    "    data=temp[1:].astype('float32') # Drop first row and interpret data as floating point numbers. \n",
    "    plt.plot(data['Time'],data['Wetted'],label=f)\n",
    "\n",
    "plt.ylim([0,np.max(data['Wetted']*1.2)])\n",
    "plt.title('Droplet Spreading')\n",
    "plt.xlabel('time')\n",
    "plt.ylabel('Radius')\n",
    "plt.legend()\n",
    "plt.grid()\n",
    "plt.show()\n",
    "    "
   ]
  },
  {
   "cell_type": "code",
   "execution_count": null,
   "metadata": {},
   "outputs": [],
   "source": []
  }
 ],
 "metadata": {
  "kernelspec": {
   "display_name": "nga",
   "language": "python",
   "name": "nga"
  },
  "language_info": {
   "codemirror_mode": {
    "name": "ipython",
    "version": 3
   },
   "file_extension": ".py",
   "mimetype": "text/x-python",
   "name": "python",
   "nbconvert_exporter": "python",
   "pygments_lexer": "ipython3",
   "version": "3.12.5"
  }
 },
 "nbformat": 4,
 "nbformat_minor": 4
}
